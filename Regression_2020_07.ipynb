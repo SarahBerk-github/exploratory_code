{
 "cells": [
  {
   "cell_type": "code",
   "execution_count": 12,
   "metadata": {},
   "outputs": [],
   "source": [
    "# Import everything that we are going to need\n",
    "import pandas as pd\n",
    "import geopandas\n",
    "import xarray as xr\n",
    "import numpy as np\n",
    "import matplotlib as mpl\n",
    "import matplotlib.pyplot as plt\n",
    "import matplotlib.patches as mpatches\n",
    "import scipy\n",
    "import scipy.interpolate"
   ]
  },
  {
   "cell_type": "code",
   "execution_count": 4,
   "metadata": {},
   "outputs": [],
   "source": [
    "#Date 15/07/2007\n",
    "#Terra MODIS\n",
    "Terradata1030Z=xr.open_dataset('/neodc/eustace/data/satellite_skin_temperature/UOL/land/MODIS_Terra/L2/GT_MOG_2P/v2.1/2007/07/15/GT_SSD-L2-MOGSV_LST_2-20070715_103000-CUOL-0.01X0.01-V2.1.nc')\n",
    "Terradata2140Z=xr.open_dataset('/neodc/eustace/data/satellite_skin_temperature/UOL/land/MODIS_Terra/L2/GT_MOG_2P/v2.1/2007/07/15/GT_SSD-L2-MOGSV_LST_2-20070715_214000-CUOL-0.01X0.01-V2.1.nc')\n",
    "\n",
    "#Aqua MODIS\n",
    "Aquadata0105Z=xr.open_dataset('/neodc/eustace/data/satellite_skin_temperature/UOL/land/MODIS_Aqua/L2/GT_MYG_2P/v2.1/2007/07/15/GT_SSD-L2-MYGSV_LST_2-20070715_010500-CUOL-0.01X0.01-V2.1.nc')\n",
    "Aquadata1215Z=xr.open_dataset('/neodc/eustace/data/satellite_skin_temperature/UOL/land/MODIS_Aqua/L2/GT_MYG_2P/v2.1/2007/07/15/GT_SSD-L2-MYGSV_LST_2-20070715_121500-CUOL-0.01X0.01-V2.1.nc')\n"
   ]
  },
  {
   "cell_type": "code",
   "execution_count": 6,
   "metadata": {},
   "outputs": [],
   "source": [
    "#Change from array to dataframe\n",
    "df_Terradata1030Z = Terradata1030Z.to_dataframe()\n",
    "df_Terradata2140Z = Terradata2140Z.to_dataframe()\n",
    "df_Aquadata0105Z = Aquadata0105Z.to_dataframe()\n",
    "df_Aquadata1215Z = Aquadata1215Z.to_dataframe()"
   ]
  },
  {
   "cell_type": "code",
   "execution_count": 62,
   "metadata": {},
   "outputs": [],
   "source": [
    "#select a subset (Area containing Milan city centre and 39km around it, taken from Anniballe 2014)\n",
    "#45.29<lat<45.64, 8.91<lon<9.42\n",
    "subset_Terradata1030Z= df_Terradata1030Z[(df_Terradata1030Z.lat >45.29) & (df_Terradata1030Z.lat < 45.65) & (df_Terradata1030Z.lon > 8.91) & (df_Terradata1030Z.lon < 9.42)]"
   ]
  },
  {
   "cell_type": "code",
   "execution_count": 63,
   "metadata": {},
   "outputs": [
    {
     "data": {
      "text/plain": [
       "314.22214"
      ]
     },
     "execution_count": 63,
     "metadata": {},
     "output_type": "execute_result"
    }
   ],
   "source": [
    "subset_Terradata1030Z[\"LST\"].mean()"
   ]
  },
  {
   "cell_type": "code",
   "execution_count": 64,
   "metadata": {},
   "outputs": [],
   "source": [
    "#converting from dataframe to array\n",
    "#lon= subset_Terradata1030Z[\"lon\"].values\n",
    "#lat= subset_Terradata1030Z[\"lat\"].values\n",
    "#LST= subset_Terradata1030Z[\"LST\"].values\n"
   ]
  },
  {
   "cell_type": "code",
   "execution_count": 65,
   "metadata": {},
   "outputs": [],
   "source": [
    "#Need to project the lat and lon coordinates onto a grid\n",
    "#start by importing the packages we need to do this\n",
    "import shapely.geometry\n",
    "import pyproj\n",
    "from shapely.geometry import Point, LineString, Polygon\n",
    "from cartopy import crs as ccrs"
   ]
  },
  {
   "cell_type": "code",
   "execution_count": 66,
   "metadata": {},
   "outputs": [],
   "source": [
    "#Change the coordinate reference system\n",
    "#lat and lon coordinates are not accurate as they are distorted by the shape of the map\n",
    "subset_Terradata1030Z_df_geometry = [Point(xy) for xy in zip(subset_Terradata1030Z.lon, subset_Terradata1030Z.lat)]\n",
    "\n",
    "gdf = geopandas.GeoDataFrame(subset_Terradata1030Z, geometry=subset_Terradata1030Z_df_geometry)\n",
    "gdf.crs= {'init': 'epsg:4326', 'no_defs': True}"
   ]
  },
  {
   "cell_type": "code",
   "execution_count": 67,
   "metadata": {},
   "outputs": [],
   "source": [
    "gdf2 = gdf.to_crs(epsg=3003) #epsg 3003 is mainland italy, units in m, cartesian 2D axis"
   ]
  },
  {
   "cell_type": "code",
   "execution_count": null,
   "metadata": {},
   "outputs": [],
   "source": [
    "#####NOT USED- probably delete\n",
    "##################################################################\n",
    "# Set up projections\n",
    "p_ll = pyproj.Proj(init='epsg:4326')\n",
    "p_mt = pyproj.Proj(init='epsg:3857') # metric; same as EPSG:900913\n",
    "\n",
    "# Create corners of rectangle to be transformed to a grid\n",
    "sw = shapely.geometry.Point((8.0, 45.0))\n",
    "ne = shapely.geometry.Point((10.0, 46.0))\n",
    "\n",
    "stepsize = 1000 # 1 km grid step size\n",
    "\n",
    "# Project corners to target projection\n",
    "transformed_sw = pyproj.transform(p_ll, p_mt, sw.x, sw.y) # Transform NW point to 3857\n",
    "transformed_ne = pyproj.transform(p_ll, p_mt, ne.x, ne.y) # .. same for SE\n",
    "###################################################################\n"
   ]
  },
  {
   "cell_type": "code",
   "execution_count": 45,
   "metadata": {},
   "outputs": [],
   "source": [
    "#####NOT USED -probably delete\n",
    "##################################################################\n",
    "# Iterate over 2D area\n",
    "gridpoints = []\n",
    "x = transformed_sw[0]\n",
    "while x < transformed_ne[0]:\n",
    "    y = transformed_sw[1]\n",
    "    while y < transformed_ne[1]:\n",
    "        p = shapely.geometry.Point(pyproj.transform(p_mt, p_ll, x, y))\n",
    "        gridpoints.append(p)\n",
    "        y += stepsize\n",
    "    x += stepsize\n",
    "\n",
    "with open('testout.csv', 'w') as of:\n",
    "    of.write('lon;lat\\n')\n",
    "    for p in gridpoints:\n",
    "        of.write('{:f};{:f}\\n'.format(p.x, p.y))\n",
    "###################################################################"
   ]
  },
  {
   "cell_type": "code",
   "execution_count": 54,
   "metadata": {},
   "outputs": [],
   "source": [
    "#for x in range(len(gridpoints)): \n",
    "#    print (gridpoints[x])"
   ]
  },
  {
   "cell_type": "code",
   "execution_count": 68,
   "metadata": {},
   "outputs": [],
   "source": [
    "df1= pd.DataFrame(gdf2)"
   ]
  },
  {
   "cell_type": "code",
   "execution_count": 70,
   "metadata": {},
   "outputs": [],
   "source": [
    "#Extract the x and y coordinates \n",
    "x_points = gdf2['geometry'].x\n",
    "y_points = gdf2['geometry'].y"
   ]
  },
  {
   "cell_type": "code",
   "execution_count": 71,
   "metadata": {},
   "outputs": [],
   "source": [
    "#Add the extracted coordinates to dataframe\n",
    "gdf2['xpoints'] = x_points\n",
    "gdf2['ypoints'] = y_points"
   ]
  },
  {
   "cell_type": "code",
   "execution_count": 168,
   "metadata": {},
   "outputs": [],
   "source": [
    "#gdf2"
   ]
  },
  {
   "cell_type": "code",
   "execution_count": 73,
   "metadata": {},
   "outputs": [],
   "source": [
    "#Determine the origin\n",
    "origin_x = min(gdf2.xpoints)\n",
    "origin_y = min(gdf2.ypoints)"
   ]
  },
  {
   "cell_type": "code",
   "execution_count": 74,
   "metadata": {},
   "outputs": [],
   "source": [
    "#Subtract the orgin from the points\n",
    "gdf2['x_points'] = gdf2['xpoints'] - origin_x\n",
    "gdf2['y_points'] = gdf2['ypoints'] - origin_y"
   ]
  },
  {
   "cell_type": "code",
   "execution_count": 75,
   "metadata": {},
   "outputs": [],
   "source": [
    "#Drop the xpoints and ypoints columns as they are no longer needed\n",
    "gdf2 = gdf2.drop('xpoints', axis = 1)\n",
    "gdf2 = gdf2.drop('ypoints', axis = 1)"
   ]
  },
  {
   "cell_type": "code",
   "execution_count": 76,
   "metadata": {},
   "outputs": [],
   "source": [
    "#Check points by plotting\n",
    "#specify x,y,LSTs\n",
    "x= gdf2.x_points\n",
    "y= gdf2.y_points\n",
    "LST = gdf2.LST"
   ]
  },
  {
   "cell_type": "code",
   "execution_count": 82,
   "metadata": {},
   "outputs": [],
   "source": [
    "#Check points by plotting\n",
    "#get the points into the correct format\n",
    "X,Y = np.meshgrid(x,y)\n",
    "Z = scipy.interpolate.griddata((x, y), LST, (X,Y), method='nearest')"
   ]
  },
  {
   "cell_type": "code",
   "execution_count": 126,
   "metadata": {},
   "outputs": [
    {
     "data": {
      "text/plain": [
       "<matplotlib.colorbar.Colorbar at 0x7ff7dc2b4278>"
      ]
     },
     "execution_count": 126,
     "metadata": {},
     "output_type": "execute_result"
    },
    {
     "data": {
      "image/png": "[encoded data removed]",
      "text/plain": [
       "<Figure size 432x288 with 2 Axes>"
      ]
     },
     "metadata": {
      "needs_background": "light"
     },
     "output_type": "display_data"
    }
   ],
   "source": [
    "#Make plot\n",
    "#Colour mesh plot\n",
    "plt.pcolormesh(X,Y,Z)\n",
    "plt.colorbar()"
   ]
  },
  {
   "cell_type": "code",
   "execution_count": 125,
   "metadata": {},
   "outputs": [
    {
     "data": {
      "text/plain": [
       "<matplotlib.colorbar.Colorbar at 0x7ff7de5878d0>"
      ]
     },
     "execution_count": 125,
     "metadata": {},
     "output_type": "execute_result"
    },
    {
     "data": {
      "image/png": "[encoded data removed]",
      "text/plain": [
       "<Figure size 432x288 with 2 Axes>"
      ]
     },
     "metadata": {
      "needs_background": "light"
     },
     "output_type": "display_data"
    }
   ],
   "source": [
    "#Make plot\n",
    "#Contour plot\n",
    "plt.contourf(X,Y,Z,levels = 5)\n",
    "plt.colorbar()"
   ]
  },
  {
   "cell_type": "code",
   "execution_count": 94,
   "metadata": {},
   "outputs": [
    {
     "data": {
      "text/plain": [
       "array([[312.72998, 312.72998, 312.72998, ..., 314.91   , 314.91   ,\n",
       "        314.91   ],\n",
       "       [315.09   , 315.09   , 315.09   , ..., 314.58   , 315.07   ,\n",
       "        315.07   ],\n",
       "       [314.16   , 314.16   , 314.16   , ..., 314.58   , 314.58   ,\n",
       "        314.58   ],\n",
       "       ...,\n",
       "       [308.59   , 308.59   , 308.3    , ..., 313.9    , 313.9    ,\n",
       "        313.9    ],\n",
       "       [307.08   , 307.08   , 307.08   , ..., 315.34   , 315.34   ,\n",
       "        315.34   ],\n",
       "       [306.62   , 306.62   , 306.62   , ..., 312.16998, 312.16998,\n",
       "        312.16998]], dtype=float32)"
      ]
     },
     "execution_count": 94,
     "metadata": {},
     "output_type": "execute_result"
    }
   ],
   "source": [
    "Z"
   ]
  },
  {
   "cell_type": "code",
   "execution_count": 95,
   "metadata": {},
   "outputs": [],
   "source": [
    "#Take a look at QC flags\n",
    "QC = gdf2.QC"
   ]
  },
  {
   "cell_type": "code",
   "execution_count": 98,
   "metadata": {},
   "outputs": [],
   "source": [
    "#Apply the function to the QC list to check bytes 1 and 2. Then append this new list onto our data frame. \n",
    "#first off all define the functions\n",
    "\n",
    "#function to check the status of a byte on the QC control\n",
    "def check_bits(x,n):\n",
    "    if (x & (1<<n)): \n",
    "  ## n-th bit is 1 \n",
    "        flag = 1\n",
    "    else:\n",
    "  ## n-th bit is 0\n",
    "        flag = 0\n",
    "    return flag\n",
    "\n",
    "#function to check bytes 1 and 2 and return 0 if they are both 0\n",
    "def quality_control(x):\n",
    "    if ((check_bits(x,1) == 0) and (check_bits(x,2) == 0)):\n",
    "  ##if bit 1 and bit 2 are 0 then 0 \n",
    "        flag = 0\n",
    "    else:\n",
    "  ##otherwise flag is 1\n",
    "        flag = 1\n",
    "    return flag\n"
   ]
  },
  {
   "cell_type": "code",
   "execution_count": 112,
   "metadata": {},
   "outputs": [],
   "source": [
    "#Apply to function to QC\n",
    "QC2 = np.array([quality_control(int(i)) for i in QC])"
   ]
  },
  {
   "cell_type": "code",
   "execution_count": 115,
   "metadata": {},
   "outputs": [],
   "source": [
    "#Now need to add this QC2 flag onto the dataset\n",
    "gdf2['QC_2'] = QC2"
   ]
  },
  {
   "cell_type": "code",
   "execution_count": 118,
   "metadata": {},
   "outputs": [],
   "source": [
    "#Look at the points which are not useable based on the QC flag\n",
    "#first grid the QC_2 flag\n",
    "QC_2 = gdf2.QC_2\n",
    "QC_Z = scipy.interpolate.griddata((x, y), QC_2, (X,Y), method='nearest')"
   ]
  },
  {
   "cell_type": "code",
   "execution_count": 123,
   "metadata": {},
   "outputs": [
    {
     "data": {
      "text/plain": [
       "<matplotlib.colorbar.Colorbar at 0x7ff7e3828630>"
      ]
     },
     "execution_count": 123,
     "metadata": {},
     "output_type": "execute_result"
    },
    {
     "data": {
      "image/png": "[encoded data removed]",
      "text/plain": [
       "<Figure size 432x288 with 2 Axes>"
      ]
     },
     "metadata": {
      "needs_background": "light"
     },
     "output_type": "display_data"
    }
   ],
   "source": [
    "#Then plot \n",
    "plt.pcolormesh(X,Y,QC_Z)\n",
    "plt.colorbar()"
   ]
  },
  {
   "cell_type": "code",
   "execution_count": 13,
   "metadata": {},
   "outputs": [],
   "source": [
    "#Now need to apply a mask to the urban area and poor quality pixels\n",
    "#so, mask out where QC_2 = 1 and using a land cover map\n",
    "#first need to load up the land cover use data\n",
    "LULC_ds=xr.open_dataset('/badc/quest/data/qesdi/external/modis/MCD12Q1_10min/MODIS_classification_IGBP.nc')"
   ]
  },
  {
   "cell_type": "code",
   "execution_count": 17,
   "metadata": {},
   "outputs": [
    {
     "data": {
      "text/plain": [
       "<xarray.DataArray 'index' (index: 16)>\n",
       "array([ 0,  1,  2,  3,  4,  5,  6,  7,  8,  9, 10, 11, 12, 13, 14, 15])\n",
       "Dimensions without coordinates: index"
      ]
     },
     "execution_count": 17,
     "metadata": {},
     "output_type": "execute_result"
    }
   ],
   "source": [
    "LULC_ds.index"
   ]
  },
  {
   "cell_type": "code",
   "execution_count": 204,
   "metadata": {},
   "outputs": [],
   "source": [
    "#latitude are only coordinates, want to have them as data variabes so the can be used in analysis\n",
    "#get 2 data arrays containing latitude and longitude\n",
    "latitude = LULC_ds['latitude']\n",
    "longitude = LULC_ds['longitude']\n",
    "#index = LULC_ds['index']"
   ]
  },
  {
   "cell_type": "code",
   "execution_count": 205,
   "metadata": {},
   "outputs": [],
   "source": [
    "#Add these in as variables in the dataset\n",
    "LULC_ds['lat'] = latitude\n",
    "LULC_ds['lon'] = longitude\n",
    "#LULC_ds['index'] = index"
   ]
  },
  {
   "cell_type": "code",
   "execution_count": 206,
   "metadata": {},
   "outputs": [],
   "source": [
    "#Change from array to dataframe\n",
    "LULC_df = LULC_ds.to_dataframe()"
   ]
  },
  {
   "cell_type": "code",
   "execution_count": 207,
   "metadata": {},
   "outputs": [],
   "source": [
    "#select a subset (Area containing Milan city centre and 39km around it, taken from Anniballe 2014)\n",
    "#45.29<lat<45.64, 8.91<lon<9.42\n",
    "subset_LULC_df= LULC_df[(LULC_df.lat >45.29) & (LULC_df.lat < 45.65) & (LULC_df.lon > 8.91) & (LULC_df.lon < 9.42)]"
   ]
  },
  {
   "cell_type": "code",
   "execution_count": 211,
   "metadata": {},
   "outputs": [
    {
     "data": {
      "text/html": [
       "<div>\n",
       "<style scoped>\n",
       "    .dataframe tbody tr th:only-of-type {\n",
       "        vertical-align: middle;\n",
       "    }\n",
       "\n",
       "    .dataframe tbody tr th {\n",
       "        vertical-align: top;\n",
       "    }\n",
       "\n",
       "    .dataframe thead th {\n",
       "        text-align: right;\n",
       "    }\n",
       "</style>\n",
       "<table border=\"1\" class=\"dataframe\">\n",
       "  <thead>\n",
       "    <tr style=\"text-align: right;\">\n",
       "      <th></th>\n",
       "      <th></th>\n",
       "      <th></th>\n",
       "      <th>landtype</th>\n",
       "      <th>lat</th>\n",
       "      <th>lon</th>\n",
       "    </tr>\n",
       "    <tr>\n",
       "      <th>index</th>\n",
       "      <th>latitude</th>\n",
       "      <th>longitude</th>\n",
       "      <th></th>\n",
       "      <th></th>\n",
       "      <th></th>\n",
       "    </tr>\n",
       "  </thead>\n",
       "  <tbody>\n",
       "    <tr>\n",
       "      <th rowspan=\"8\" valign=\"top\">0</th>\n",
       "      <th rowspan=\"4\" valign=\"top\">45.583332</th>\n",
       "      <th>8.916672</th>\n",
       "      <td>0.000000</td>\n",
       "      <td>45.583332</td>\n",
       "      <td>8.916672</td>\n",
       "    </tr>\n",
       "    <tr>\n",
       "      <th>9.083344</th>\n",
       "      <td>0.000000</td>\n",
       "      <td>45.583332</td>\n",
       "      <td>9.083344</td>\n",
       "    </tr>\n",
       "    <tr>\n",
       "      <th>9.250000</th>\n",
       "      <td>0.000000</td>\n",
       "      <td>45.583332</td>\n",
       "      <td>9.250000</td>\n",
       "    </tr>\n",
       "    <tr>\n",
       "      <th>9.416672</th>\n",
       "      <td>0.000000</td>\n",
       "      <td>45.583332</td>\n",
       "      <td>9.416672</td>\n",
       "    </tr>\n",
       "    <tr>\n",
       "      <th rowspan=\"4\" valign=\"top\">45.416664</th>\n",
       "      <th>8.916672</th>\n",
       "      <td>0.000000</td>\n",
       "      <td>45.416664</td>\n",
       "      <td>8.916672</td>\n",
       "    </tr>\n",
       "    <tr>\n",
       "      <th>9.083344</th>\n",
       "      <td>0.000000</td>\n",
       "      <td>45.416664</td>\n",
       "      <td>9.083344</td>\n",
       "    </tr>\n",
       "    <tr>\n",
       "      <th>9.250000</th>\n",
       "      <td>0.000000</td>\n",
       "      <td>45.416664</td>\n",
       "      <td>9.250000</td>\n",
       "    </tr>\n",
       "    <tr>\n",
       "      <th>9.416672</th>\n",
       "      <td>0.000000</td>\n",
       "      <td>45.416664</td>\n",
       "      <td>9.416672</td>\n",
       "    </tr>\n",
       "    <tr>\n",
       "      <th rowspan=\"8\" valign=\"top\">1</th>\n",
       "      <th rowspan=\"4\" valign=\"top\">45.583332</th>\n",
       "      <th>8.916672</th>\n",
       "      <td>0.000000</td>\n",
       "      <td>45.583332</td>\n",
       "      <td>8.916672</td>\n",
       "    </tr>\n",
       "    <tr>\n",
       "      <th>9.083344</th>\n",
       "      <td>0.000000</td>\n",
       "      <td>45.583332</td>\n",
       "      <td>9.083344</td>\n",
       "    </tr>\n",
       "    <tr>\n",
       "      <th>9.250000</th>\n",
       "      <td>0.000000</td>\n",
       "      <td>45.583332</td>\n",
       "      <td>9.250000</td>\n",
       "    </tr>\n",
       "    <tr>\n",
       "      <th>9.416672</th>\n",
       "      <td>0.000000</td>\n",
       "      <td>45.583332</td>\n",
       "      <td>9.416672</td>\n",
       "    </tr>\n",
       "    <tr>\n",
       "      <th rowspan=\"4\" valign=\"top\">45.416664</th>\n",
       "      <th>8.916672</th>\n",
       "      <td>0.000000</td>\n",
       "      <td>45.416664</td>\n",
       "      <td>8.916672</td>\n",
       "    </tr>\n",
       "    <tr>\n",
       "      <th>9.083344</th>\n",
       "      <td>0.000000</td>\n",
       "      <td>45.416664</td>\n",
       "      <td>9.083344</td>\n",
       "    </tr>\n",
       "    <tr>\n",
       "      <th>9.250000</th>\n",
       "      <td>0.000000</td>\n",
       "      <td>45.416664</td>\n",
       "      <td>9.250000</td>\n",
       "    </tr>\n",
       "    <tr>\n",
       "      <th>9.416672</th>\n",
       "      <td>0.000000</td>\n",
       "      <td>45.416664</td>\n",
       "      <td>9.416672</td>\n",
       "    </tr>\n",
       "    <tr>\n",
       "      <th rowspan=\"8\" valign=\"top\">2</th>\n",
       "      <th rowspan=\"4\" valign=\"top\">45.583332</th>\n",
       "      <th>8.916672</th>\n",
       "      <td>0.000000</td>\n",
       "      <td>45.583332</td>\n",
       "      <td>8.916672</td>\n",
       "    </tr>\n",
       "    <tr>\n",
       "      <th>9.083344</th>\n",
       "      <td>0.000000</td>\n",
       "      <td>45.583332</td>\n",
       "      <td>9.083344</td>\n",
       "    </tr>\n",
       "    <tr>\n",
       "      <th>9.250000</th>\n",
       "      <td>0.000000</td>\n",
       "      <td>45.583332</td>\n",
       "      <td>9.250000</td>\n",
       "    </tr>\n",
       "    <tr>\n",
       "      <th>9.416672</th>\n",
       "      <td>0.000000</td>\n",
       "      <td>45.583332</td>\n",
       "      <td>9.416672</td>\n",
       "    </tr>\n",
       "    <tr>\n",
       "      <th rowspan=\"4\" valign=\"top\">45.416664</th>\n",
       "      <th>8.916672</th>\n",
       "      <td>0.000000</td>\n",
       "      <td>45.416664</td>\n",
       "      <td>8.916672</td>\n",
       "    </tr>\n",
       "    <tr>\n",
       "      <th>9.083344</th>\n",
       "      <td>0.000000</td>\n",
       "      <td>45.416664</td>\n",
       "      <td>9.083344</td>\n",
       "    </tr>\n",
       "    <tr>\n",
       "      <th>9.250000</th>\n",
       "      <td>0.000000</td>\n",
       "      <td>45.416664</td>\n",
       "      <td>9.250000</td>\n",
       "    </tr>\n",
       "    <tr>\n",
       "      <th>9.416672</th>\n",
       "      <td>0.000000</td>\n",
       "      <td>45.416664</td>\n",
       "      <td>9.416672</td>\n",
       "    </tr>\n",
       "    <tr>\n",
       "      <th rowspan=\"6\" valign=\"top\">3</th>\n",
       "      <th rowspan=\"4\" valign=\"top\">45.583332</th>\n",
       "      <th>8.916672</th>\n",
       "      <td>0.000000</td>\n",
       "      <td>45.583332</td>\n",
       "      <td>8.916672</td>\n",
       "    </tr>\n",
       "    <tr>\n",
       "      <th>9.083344</th>\n",
       "      <td>0.000000</td>\n",
       "      <td>45.583332</td>\n",
       "      <td>9.083344</td>\n",
       "    </tr>\n",
       "    <tr>\n",
       "      <th>9.250000</th>\n",
       "      <td>0.000000</td>\n",
       "      <td>45.583332</td>\n",
       "      <td>9.250000</td>\n",
       "    </tr>\n",
       "    <tr>\n",
       "      <th>9.416672</th>\n",
       "      <td>0.000000</td>\n",
       "      <td>45.583332</td>\n",
       "      <td>9.416672</td>\n",
       "    </tr>\n",
       "    <tr>\n",
       "      <th rowspan=\"2\" valign=\"top\">45.416664</th>\n",
       "      <th>8.916672</th>\n",
       "      <td>0.003568</td>\n",
       "      <td>45.416664</td>\n",
       "      <td>8.916672</td>\n",
       "    </tr>\n",
       "    <tr>\n",
       "      <th>9.083344</th>\n",
       "      <td>0.000000</td>\n",
       "      <td>45.416664</td>\n",
       "      <td>9.083344</td>\n",
       "    </tr>\n",
       "    <tr>\n",
       "      <th>...</th>\n",
       "      <th>...</th>\n",
       "      <th>...</th>\n",
       "      <td>...</td>\n",
       "      <td>...</td>\n",
       "      <td>...</td>\n",
       "    </tr>\n",
       "    <tr>\n",
       "      <th rowspan=\"6\" valign=\"top\">12</th>\n",
       "      <th rowspan=\"2\" valign=\"top\">45.583332</th>\n",
       "      <th>9.250000</th>\n",
       "      <td>0.857143</td>\n",
       "      <td>45.583332</td>\n",
       "      <td>9.250000</td>\n",
       "    </tr>\n",
       "    <tr>\n",
       "      <th>9.416672</th>\n",
       "      <td>0.334821</td>\n",
       "      <td>45.583332</td>\n",
       "      <td>9.416672</td>\n",
       "    </tr>\n",
       "    <tr>\n",
       "      <th rowspan=\"4\" valign=\"top\">45.416664</th>\n",
       "      <th>8.916672</th>\n",
       "      <td>0.146298</td>\n",
       "      <td>45.416664</td>\n",
       "      <td>8.916672</td>\n",
       "    </tr>\n",
       "    <tr>\n",
       "      <th>9.083344</th>\n",
       "      <td>0.449778</td>\n",
       "      <td>45.416664</td>\n",
       "      <td>9.083344</td>\n",
       "    </tr>\n",
       "    <tr>\n",
       "      <th>9.250000</th>\n",
       "      <td>0.525378</td>\n",
       "      <td>45.416664</td>\n",
       "      <td>9.250000</td>\n",
       "    </tr>\n",
       "    <tr>\n",
       "      <th>9.416672</th>\n",
       "      <td>0.065004</td>\n",
       "      <td>45.416664</td>\n",
       "      <td>9.416672</td>\n",
       "    </tr>\n",
       "    <tr>\n",
       "      <th rowspan=\"8\" valign=\"top\">13</th>\n",
       "      <th rowspan=\"4\" valign=\"top\">45.583332</th>\n",
       "      <th>8.916672</th>\n",
       "      <td>0.014286</td>\n",
       "      <td>45.583332</td>\n",
       "      <td>8.916672</td>\n",
       "    </tr>\n",
       "    <tr>\n",
       "      <th>9.083344</th>\n",
       "      <td>0.006256</td>\n",
       "      <td>45.583332</td>\n",
       "      <td>9.083344</td>\n",
       "    </tr>\n",
       "    <tr>\n",
       "      <th>9.250000</th>\n",
       "      <td>0.033036</td>\n",
       "      <td>45.583332</td>\n",
       "      <td>9.250000</td>\n",
       "    </tr>\n",
       "    <tr>\n",
       "      <th>9.416672</th>\n",
       "      <td>0.049107</td>\n",
       "      <td>45.583332</td>\n",
       "      <td>9.416672</td>\n",
       "    </tr>\n",
       "    <tr>\n",
       "      <th rowspan=\"4\" valign=\"top\">45.416664</th>\n",
       "      <th>8.916672</th>\n",
       "      <td>0.115076</td>\n",
       "      <td>45.416664</td>\n",
       "      <td>8.916672</td>\n",
       "    </tr>\n",
       "    <tr>\n",
       "      <th>9.083344</th>\n",
       "      <td>0.039111</td>\n",
       "      <td>45.416664</td>\n",
       "      <td>9.083344</td>\n",
       "    </tr>\n",
       "    <tr>\n",
       "      <th>9.250000</th>\n",
       "      <td>0.026714</td>\n",
       "      <td>45.416664</td>\n",
       "      <td>9.250000</td>\n",
       "    </tr>\n",
       "    <tr>\n",
       "      <th>9.416672</th>\n",
       "      <td>0.204809</td>\n",
       "      <td>45.416664</td>\n",
       "      <td>9.416672</td>\n",
       "    </tr>\n",
       "    <tr>\n",
       "      <th rowspan=\"8\" valign=\"top\">14</th>\n",
       "      <th rowspan=\"4\" valign=\"top\">45.583332</th>\n",
       "      <th>8.916672</th>\n",
       "      <td>0.000000</td>\n",
       "      <td>45.583332</td>\n",
       "      <td>8.916672</td>\n",
       "    </tr>\n",
       "    <tr>\n",
       "      <th>9.083344</th>\n",
       "      <td>0.000000</td>\n",
       "      <td>45.583332</td>\n",
       "      <td>9.083344</td>\n",
       "    </tr>\n",
       "    <tr>\n",
       "      <th>9.250000</th>\n",
       "      <td>0.000000</td>\n",
       "      <td>45.583332</td>\n",
       "      <td>9.250000</td>\n",
       "    </tr>\n",
       "    <tr>\n",
       "      <th>9.416672</th>\n",
       "      <td>0.000000</td>\n",
       "      <td>45.583332</td>\n",
       "      <td>9.416672</td>\n",
       "    </tr>\n",
       "    <tr>\n",
       "      <th rowspan=\"4\" valign=\"top\">45.416664</th>\n",
       "      <th>8.916672</th>\n",
       "      <td>0.000000</td>\n",
       "      <td>45.416664</td>\n",
       "      <td>8.916672</td>\n",
       "    </tr>\n",
       "    <tr>\n",
       "      <th>9.083344</th>\n",
       "      <td>0.000000</td>\n",
       "      <td>45.416664</td>\n",
       "      <td>9.083344</td>\n",
       "    </tr>\n",
       "    <tr>\n",
       "      <th>9.250000</th>\n",
       "      <td>0.000000</td>\n",
       "      <td>45.416664</td>\n",
       "      <td>9.250000</td>\n",
       "    </tr>\n",
       "    <tr>\n",
       "      <th>9.416672</th>\n",
       "      <td>0.000000</td>\n",
       "      <td>45.416664</td>\n",
       "      <td>9.416672</td>\n",
       "    </tr>\n",
       "    <tr>\n",
       "      <th rowspan=\"8\" valign=\"top\">15</th>\n",
       "      <th rowspan=\"4\" valign=\"top\">45.583332</th>\n",
       "      <th>8.916672</th>\n",
       "      <td>0.000000</td>\n",
       "      <td>45.583332</td>\n",
       "      <td>8.916672</td>\n",
       "    </tr>\n",
       "    <tr>\n",
       "      <th>9.083344</th>\n",
       "      <td>0.000000</td>\n",
       "      <td>45.583332</td>\n",
       "      <td>9.083344</td>\n",
       "    </tr>\n",
       "    <tr>\n",
       "      <th>9.250000</th>\n",
       "      <td>0.000000</td>\n",
       "      <td>45.583332</td>\n",
       "      <td>9.250000</td>\n",
       "    </tr>\n",
       "    <tr>\n",
       "      <th>9.416672</th>\n",
       "      <td>0.000000</td>\n",
       "      <td>45.583332</td>\n",
       "      <td>9.416672</td>\n",
       "    </tr>\n",
       "    <tr>\n",
       "      <th rowspan=\"4\" valign=\"top\">45.416664</th>\n",
       "      <th>8.916672</th>\n",
       "      <td>0.000000</td>\n",
       "      <td>45.416664</td>\n",
       "      <td>8.916672</td>\n",
       "    </tr>\n",
       "    <tr>\n",
       "      <th>9.083344</th>\n",
       "      <td>0.000000</td>\n",
       "      <td>45.416664</td>\n",
       "      <td>9.083344</td>\n",
       "    </tr>\n",
       "    <tr>\n",
       "      <th>9.250000</th>\n",
       "      <td>0.000000</td>\n",
       "      <td>45.416664</td>\n",
       "      <td>9.250000</td>\n",
       "    </tr>\n",
       "    <tr>\n",
       "      <th>9.416672</th>\n",
       "      <td>0.000000</td>\n",
       "      <td>45.416664</td>\n",
       "      <td>9.416672</td>\n",
       "    </tr>\n",
       "  </tbody>\n",
       "</table>\n",
       "<p>128 rows × 3 columns</p>\n",
       "</div>"
      ],
      "text/plain": [
       "                           landtype        lat       lon\n",
       "index latitude  longitude                               \n",
       "0     45.583332 8.916672   0.000000  45.583332  8.916672\n",
       "                9.083344   0.000000  45.583332  9.083344\n",
       "                9.250000   0.000000  45.583332  9.250000\n",
       "                9.416672   0.000000  45.583332  9.416672\n",
       "      45.416664 8.916672   0.000000  45.416664  8.916672\n",
       "                9.083344   0.000000  45.416664  9.083344\n",
       "                9.250000   0.000000  45.416664  9.250000\n",
       "                9.416672   0.000000  45.416664  9.416672\n",
       "1     45.583332 8.916672   0.000000  45.583332  8.916672\n",
       "                9.083344   0.000000  45.583332  9.083344\n",
       "                9.250000   0.000000  45.583332  9.250000\n",
       "                9.416672   0.000000  45.583332  9.416672\n",
       "      45.416664 8.916672   0.000000  45.416664  8.916672\n",
       "                9.083344   0.000000  45.416664  9.083344\n",
       "                9.250000   0.000000  45.416664  9.250000\n",
       "                9.416672   0.000000  45.416664  9.416672\n",
       "2     45.583332 8.916672   0.000000  45.583332  8.916672\n",
       "                9.083344   0.000000  45.583332  9.083344\n",
       "                9.250000   0.000000  45.583332  9.250000\n",
       "                9.416672   0.000000  45.583332  9.416672\n",
       "      45.416664 8.916672   0.000000  45.416664  8.916672\n",
       "                9.083344   0.000000  45.416664  9.083344\n",
       "                9.250000   0.000000  45.416664  9.250000\n",
       "                9.416672   0.000000  45.416664  9.416672\n",
       "3     45.583332 8.916672   0.000000  45.583332  8.916672\n",
       "                9.083344   0.000000  45.583332  9.083344\n",
       "                9.250000   0.000000  45.583332  9.250000\n",
       "                9.416672   0.000000  45.583332  9.416672\n",
       "      45.416664 8.916672   0.003568  45.416664  8.916672\n",
       "                9.083344   0.000000  45.416664  9.083344\n",
       "...                             ...        ...       ...\n",
       "12    45.583332 9.250000   0.857143  45.583332  9.250000\n",
       "                9.416672   0.334821  45.583332  9.416672\n",
       "      45.416664 8.916672   0.146298  45.416664  8.916672\n",
       "                9.083344   0.449778  45.416664  9.083344\n",
       "                9.250000   0.525378  45.416664  9.250000\n",
       "                9.416672   0.065004  45.416664  9.416672\n",
       "13    45.583332 8.916672   0.014286  45.583332  8.916672\n",
       "                9.083344   0.006256  45.583332  9.083344\n",
       "                9.250000   0.033036  45.583332  9.250000\n",
       "                9.416672   0.049107  45.583332  9.416672\n",
       "      45.416664 8.916672   0.115076  45.416664  8.916672\n",
       "                9.083344   0.039111  45.416664  9.083344\n",
       "                9.250000   0.026714  45.416664  9.250000\n",
       "                9.416672   0.204809  45.416664  9.416672\n",
       "14    45.583332 8.916672   0.000000  45.583332  8.916672\n",
       "                9.083344   0.000000  45.583332  9.083344\n",
       "                9.250000   0.000000  45.583332  9.250000\n",
       "                9.416672   0.000000  45.583332  9.416672\n",
       "      45.416664 8.916672   0.000000  45.416664  8.916672\n",
       "                9.083344   0.000000  45.416664  9.083344\n",
       "                9.250000   0.000000  45.416664  9.250000\n",
       "                9.416672   0.000000  45.416664  9.416672\n",
       "15    45.583332 8.916672   0.000000  45.583332  8.916672\n",
       "                9.083344   0.000000  45.583332  9.083344\n",
       "                9.250000   0.000000  45.583332  9.250000\n",
       "                9.416672   0.000000  45.583332  9.416672\n",
       "      45.416664 8.916672   0.000000  45.416664  8.916672\n",
       "                9.083344   0.000000  45.416664  9.083344\n",
       "                9.250000   0.000000  45.416664  9.250000\n",
       "                9.416672   0.000000  45.416664  9.416672\n",
       "\n",
       "[128 rows x 3 columns]"
      ]
     },
     "execution_count": 211,
     "metadata": {},
     "output_type": "execute_result"
    }
   ],
   "source": [
    "subset_LULC_df"
   ]
  },
  {
   "cell_type": "code",
   "execution_count": 175,
   "metadata": {},
   "outputs": [],
   "source": [
    "#Check points by plotting\n",
    "#get the points into the correct format\n",
    "x_lu = subset_LULC_df.lon\n",
    "y_lu = subset_LULC_df.lat\n",
    "LT_lu = subset_LULC_df.landtype\n",
    "\n",
    "X_lu,Y_lu = np.meshgrid(x_lu,y_lu)\n",
    "Z_lu = scipy.interpolate.griddata((x_lu, y_lu), LT_lu, (X_lu,Y_lu), method='nearest')"
   ]
  },
  {
   "cell_type": "code",
   "execution_count": 176,
   "metadata": {},
   "outputs": [
    {
     "data": {
      "text/plain": [
       "<matplotlib.colorbar.Colorbar at 0x7ff7fdcf7898>"
      ]
     },
     "execution_count": 176,
     "metadata": {},
     "output_type": "execute_result"
    },
    {
     "data": {
      "image/png": "[encoded data removed]",
      "text/plain": [
       "<Figure size 432x288 with 2 Axes>"
      ]
     },
     "metadata": {
      "needs_background": "light"
     },
     "output_type": "display_data"
    }
   ],
   "source": [
    "#Make plot\n",
    "#Colour mesh plot\n",
    "plt.pcolormesh(X_lu,Y_lu, Z_lu)\n",
    "plt.colorbar()"
   ]
  },
  {
   "cell_type": "code",
   "execution_count": null,
   "metadata": {},
   "outputs": [],
   "source": []
  },
  {
   "cell_type": "code",
   "execution_count": null,
   "metadata": {},
   "outputs": [],
   "source": []
  },
  {
   "cell_type": "code",
   "execution_count": null,
   "metadata": {},
   "outputs": [],
   "source": []
  },
  {
   "cell_type": "code",
   "execution_count": null,
   "metadata": {},
   "outputs": [],
   "source": []
  },
  {
   "cell_type": "code",
   "execution_count": 6,
   "metadata": {},
   "outputs": [],
   "source": []
  },
  {
   "cell_type": "code",
   "execution_count": 8,
   "metadata": {},
   "outputs": [],
   "source": []
  },
  {
   "cell_type": "code",
   "execution_count": null,
   "metadata": {},
   "outputs": [],
   "source": []
  },
  {
   "cell_type": "code",
   "execution_count": 18,
   "metadata": {},
   "outputs": [],
   "source": [
    " dada = xr.open_dataset('/neodc/esacci/land_cover/data/land_cover_maps/v2.0.7/ESACCI-LC-L4-LCCS-Map-300m-P1Y-2007-v2.0.7b.nc')"
   ]
  },
  {
   "cell_type": "code",
   "execution_count": 20,
   "metadata": {},
   "outputs": [
    {
     "data": {
      "text/plain": [
       "<xarray.DataArray 'lccs_class' (lat: 64800, lon: 129600)>\n",
       "[8398080000 values with dtype=float32]\n",
       "Coordinates:\n",
       "  * lat      (lat) float32 89.99861 89.995834 89.99306 ... -89.995834 -89.99861\n",
       "  * lon      (lon) float32 -179.99861 -179.99583 ... 179.99583 179.99861\n",
       "Attributes:\n",
       "    long_name:            Land cover class defined in LCCS\n",
       "    standard_name:        land_cover_lccs\n",
       "    flag_values:          [   0   10   11   12   20   30   40   50   60   61 ...\n",
       "    flag_meanings:        no_data cropland_rainfed cropland_rainfed_herbaceou...\n",
       "    valid_min:            1\n",
       "    valid_max:            220\n",
       "    ancillary_variables:  processed_flag current_pixel_state observation_coun..."
      ]
     },
     "execution_count": 20,
     "metadata": {},
     "output_type": "execute_result"
    }
   ],
   "source": [
    "dada.lccs_class"
   ]
  },
  {
   "cell_type": "code",
   "execution_count": null,
   "metadata": {},
   "outputs": [],
   "source": []
  }
 ],
 "metadata": {
  "kernelspec": {
   "display_name": "Python 3 + Jaspy",
   "language": "python",
   "name": "jaspy"
  },
  "language_info": {
   "codemirror_mode": {
    "name": "ipython",
    "version": 3
   },
   "file_extension": ".py",
   "mimetype": "text/x-python",
   "name": "python",
   "nbconvert_exporter": "python",
   "pygments_lexer": "ipython3",
   "version": "3.7.1"
  }
 },
 "nbformat": 4,
 "nbformat_minor": 4
}
